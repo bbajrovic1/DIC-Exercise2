{
 "cells": [
  {
   "cell_type": "code",
   "execution_count": 1,
   "id": "6548fc09-ef89-4d27-98fc-4f324f8def46",
   "metadata": {
    "tags": []
   },
   "outputs": [],
   "source": [
    "%%init_spark --stderr\n",
    "launcher.conf.spark.app.name = \"DIC Exercise 2\"\n",
    "launcher.conf.spark.default.parallelism = 12"
   ]
  },
  {
   "cell_type": "code",
   "execution_count": 2,
   "id": "4e0f5fcd-2148-445f-a333-e64af4a18957",
   "metadata": {
    "tags": []
   },
   "outputs": [
    {
     "data": {
      "text/plain": [
       "Intitializing Scala interpreter ..."
      ]
     },
     "metadata": {},
     "output_type": "display_data"
    },
    {
     "data": {
      "text/plain": [
       "Spark Web UI available at http://captain01.os.hpc.tuwien.ac.at:9999/proxy/application_1715326141961_0081\n",
       "SparkContext available as 'sc' (version = 3.2.3, master = yarn, app id = application_1715326141961_0081)\n",
       "SparkSession available as 'spark'\n"
      ]
     },
     "metadata": {},
     "output_type": "display_data"
    },
    {
     "name": "stdout",
     "output_type": "stream",
     "text": [
      "spark.app.name: DIC Exercise 2\n",
      "spark.master: yarn\n",
      "spark.submit.deployMode: client\n",
      "sc.defaultParallelism: 12\n"
     ]
    }
   ],
   "source": [
    "println(\"spark.app.name: \" + spark.conf.get(\"spark.app.name\"))\n",
    "println(\"spark.master: \" + spark.conf.get(\"spark.master\"))\n",
    "println(\"spark.submit.deployMode: \" + spark.conf.get(\"spark.submit.deployMode\"))\n",
    "println(\"sc.defaultParallelism: \" + sc.defaultParallelism)"
   ]
  },
  {
   "cell_type": "code",
   "execution_count": 3,
   "id": "b20dde4b-1835-4573-bba0-850b6bf245f0",
   "metadata": {
    "tags": []
   },
   "outputs": [
    {
     "name": "stdout",
     "output_type": "stream",
     "text": [
      "Found 2 items\n",
      "\n",
      "\n",
      "-rw-r--r--   3 blee supergroup      55.3 M 2023-03-13 11:18 /user/dic24_shared/amazon-reviews/full/reviews_devset.json\n",
      "\n",
      "\n",
      "-rw-r--r--   3 blee supergroup      54.3 G 2023-03-13 11:18 /user/dic24_shared/amazon-reviews/full/reviewscombined.json\n",
      "\n",
      "\n"
     ]
    }
   ],
   "source": [
    "!hdfs dfs -ls -h /user/dic24_shared/amazon-reviews/full"
   ]
  },
  {
   "cell_type": "code",
   "execution_count": 4,
   "id": "0c2cf853-057b-419f-8284-cfb585606264",
   "metadata": {
    "tags": []
   },
   "outputs": [
    {
     "name": "stderr",
     "output_type": "stream",
     "text": [
      "[Stage 0:>                                                         (0 + 1) / 12]\n",
      "[Stage 0:=========>                                                (2 + 1) / 12]\n",
      "[Stage 0:========================>                                 (5 + 1) / 12]\n",
      "[Stage 0:======================================>                   (8 + 2) / 12]\n",
      "[Stage 0:====================================================>    (11 + 1) / 12]\n",
      "                                                                                \n",
      "\u001b[0m"
     ]
    },
    {
     "data": {
      "text/plain": [
       "reviews: org.apache.spark.sql.DataFrame = [asin: string, category: string ... 8 more fields]\n"
      ]
     },
     "execution_count": 4,
     "metadata": {},
     "output_type": "execute_result"
    }
   ],
   "source": [
    "val reviews = spark.read.json(\"hdfs:///user/dic24_shared/amazon-reviews/full/reviews_devset.json\")"
   ]
  },
  {
   "cell_type": "code",
   "execution_count": 5,
   "id": "087626ca-bde2-458f-a5f6-39b634464082",
   "metadata": {
    "tags": []
   },
   "outputs": [
    {
     "name": "stdout",
     "output_type": "stream",
     "text": [
      "+----------+--------------------+--------+-------+--------------------+-----------+--------------+--------------------+--------------------+--------------+\n",
      "|      asin|            category| helpful|overall|          reviewText| reviewTime|    reviewerID|        reviewerName|             summary|unixReviewTime|\n",
      "+----------+--------------------+--------+-------+--------------------+-----------+--------------+--------------------+--------------------+--------------+\n",
      "|0981850006|Patio_Lawn_and_Garde|  [6, 7]|    5.0|This was a gift f...| 12 3, 2009|A2VNYWOPJ13AFP|Amazon Customer \"...|              Delish|    1259798400|\n",
      "|B00002N66D|Patio_Lawn_and_Garde|  [1, 1]|    5.0|This is a very ni...| 12 3, 2012|A2E5XXXC07AGA7|               James|       Nice spreader|    1354492800|\n",
      "|B00002N67U|Patio_Lawn_and_Garde|  [0, 1]|    1.0|The metal base wi...|08 13, 2008|A16PX63WZIEQ13|             Finaldx| Terrible spike base|    1218585600|\n",
      "|B00002N6AN|Patio_Lawn_and_Garde|  [0, 0]|    4.0|For the most part...| 10 1, 2009|A2OSWM3522VARA|Wayne Allen \"Moto...|   gets the job done|    1254355200|\n",
      "|B00002N8K3|Patio_Lawn_and_Garde|  [4, 5]|    1.0|This hose is supp...|07 13, 2013|A2SX9YPPGEUADI|HappyCamper \"Happ...|           The worst|    1373673600|\n",
      "|B00002NBQ8|Patio_Lawn_and_Garde|  [2, 2]|    5.0|This tool works v...| 04 1, 2014|A2PENG0PDZUEGN|John Grossbohlin ...|          Great tool|    1396310400|\n",
      "|B00004DTNG|Patio_Lawn_and_Garde|  [1, 2]|    4.0|This product is a...|10 31, 2008|A2NBUMLJ0QBTND|            L. Allen|Black & Decker El...|    1225411200|\n",
      "|B00004OCJZ|Patio_Lawn_and_Garde|[10, 12]|    1.0|I was excited to ...|12 15, 2011| AC9EDJLYU6DEH|               NandM|Seems Like Good I...|    1323907200|\n",
      "|B00004R9TJ|Patio_Lawn_and_Garde|  [0, 1]|    5.0|I purchased the L...|11 28, 2009|A2OKI2AQ4QQV8R|          Ian Koenig|  Speeds up mulching|    1259366400|\n",
      "|B00004R9UK|Patio_Lawn_and_Garde|  [0, 0]|    4.0|Never used a manu...| 09 8, 2013|A1DYWRLW6ZB4FW|          guitarhero|  Works as described|    1378598400|\n",
      "|B00004R9VV|Patio_Lawn_and_Garde|  [1, 1]|    5.0|Good price. Good ...| 11 6, 2013|A3D8QKK1Z19XMM|         Craig S Fry|           Satisfied|    1383696000|\n",
      "|B00004R9VV|Patio_Lawn_and_Garde|[13, 13]|    5.0|I have owned the ...|04 12, 2008| A2OAGDTF00OVD|           M. Roldan|Flowtron 15 watt ...|    1207958400|\n",
      "|B00004R9XC|Patio_Lawn_and_Garde|  [2, 2]|    5.0|I had \"won\" a sim...| 09 9, 2009|A1V24A11LXC8FM|          L. Edwards|   Multipurpose ties|    1252454400|\n",
      "|B00004RA0O|Patio_Lawn_and_Garde|  [0, 0]|    4.0|The birds ate all...|07 18, 2013|A1ZFSH5UIXYC5Y|         Music lover|This netting does...|    1374105600|\n",
      "|B00004RA3E|Patio_Lawn_and_Garde|[12, 13]|    5.0|Bought last summe...|03 30, 2005|A1D8C0T4T353M9|Lives up North \"E...|Perfect for right...|    1112140800|\n",
      "|B00004RA4G|Patio_Lawn_and_Garde|  [0, 0]|    4.0|I knew I had a mo...| 06 3, 2014|A33ML4YVHKCTQH|            J. Brody|Be patient--it do...|    1401753600|\n",
      "|B00004RA88|Patio_Lawn_and_Garde|  [0, 0]|    4.0|I was a little wo...|04 10, 2013|A34Y0G9RRXQXZJ|             Greg S.|      Chainsaw Chain|    1365552000|\n",
      "|B00004RA91|Patio_Lawn_and_Garde| [8, 10]|    5.0|I have used this ...| 07 7, 2000|A2FWAQS2ZYELDY|             Lisa H.|  Hummingbird Nectar|     962928000|\n",
      "|B00004RAL1|Patio_Lawn_and_Garde|[10, 10]|    5.0|I actually do not...|02 18, 2001|A3QBS6EPFZZH6V|        Nancy Phipps|Quality is the an...|     982454400|\n",
      "|B00004RALL|Patio_Lawn_and_Garde|  [0, 0]|    5.0|Just what I  expe...|05 16, 2013|A1N7X8D30UA8X7|                 mel|            Mini BBQ|    1368662400|\n",
      "+----------+--------------------+--------+-------+--------------------+-----------+--------------+--------------------+--------------------+--------------+\n",
      "only showing top 20 rows\n",
      "\n"
     ]
    }
   ],
   "source": [
    "reviews.show()"
   ]
  },
  {
   "cell_type": "code",
   "execution_count": 6,
   "id": "bd5e57b0-2ec4-4d16-a327-75889f1c71b2",
   "metadata": {
    "tags": []
   },
   "outputs": [
    {
     "data": {
      "text/plain": [
       "stopwordsSource: scala.io.BufferedSource = <iterator>\n",
       "stopwordsImported: scala.collection.immutable.Set[String] = Set(serious, latterly, absorbs, looks, particularly, used, e, printer, down, regarding, entirely, regardless, moreover, please, read, ourselves, able, behind, for, despite, s, maybe, viz, further, corresponding, x, any, wherein, across, name, allows, this, instead, in, taste, ought, myself, have, your, off, once, are, is, mon, his, oh, why, rd, knows, bulbs, too, among, course, greetings, somewhat, bibs, everyone, seen, likely, said, try, already, soon, nobody, got, given, song, using, less, am, consider, hence, than, n, accordingly, four, anyhow, want, three, forth, whereby, himself, specify, yes, throughout, inasmuch, but, whether, sure, below, aren, co, best, plus, become...\n"
      ]
     },
     "execution_count": 6,
     "metadata": {},
     "output_type": "execute_result"
    }
   ],
   "source": [
    "val stopwordsSource = scala.io.Source.fromFile(\"/home/dic24/e12347510/Exercise_2/data/stopwords.txt\")\n",
    "\n",
    "// Convert the Source to a Set for efficient lookup\n",
    "val stopwordsImported = stopwordsSource.getLines.toSet\n",
    "\n",
    "// Convert the Set to an RDD\n",
    "val stopwords = sc.parallelize(stopwordsImported.toSeq)\n",
    "\n",
    "// Close the Source object to release resources\n",
    "stopwordsSource.close()"
   ]
  },
  {
   "cell_type": "code",
   "execution_count": 7,
   "id": "27c82805-c56d-4d63-a956-4005b427d931",
   "metadata": {
    "tags": []
   },
   "outputs": [
    {
     "name": "stderr",
     "output_type": "stream",
     "text": [
      "[Stage 2:=========>                                                (2 + 2) / 12]\n",
      "[Stage 2:========================>                                 (5 + 1) / 12]\n",
      "[Stage 2:=============================>                            (6 + 1) / 12]\n",
      "[Stage 2:======================================>                   (8 + 1) / 12]\n",
      "[Stage 2:===============================================>         (10 + 1) / 12]\n",
      "                                                                                \n",
      "\u001b[0m"
     ]
    },
    {
     "data": {
      "text/plain": [
       "reviewTextsDF: org.apache.spark.sql.DataFrame = [reviewText: string]\n",
       "reviewTextsArray: Array[String] = Array(This was a gift for my other husband.  He's making us things from it all the time and we love the food.  Directions are simple, easy to read and interpret, and fun to make.  We all love different kinds of cuisine and Raichlen provides recipes from everywhere along the barbecue trail as he calls it. Get it and just open a page.  Have at it.  You'll love the food and it has provided us with an insight into the culture that produced it. It's all about broadening horizons.  Yum!!, This is a very nice spreader.  It feels very solid and the pneumatic tires give it great maneuverability and handling over bumps.  The control arm is solid metal, not a cable, which gives you precise contro...\n"
      ]
     },
     "execution_count": 7,
     "metadata": {},
     "output_type": "execute_result"
    }
   ],
   "source": [
    "// Extract the reviewText attribute\n",
    "val reviewTextsDF = reviews.select(\"reviewText\")\n",
    "\n",
    "// Convert DataFrame to Array[String]\n",
    "val reviewTextsArray = reviewTextsDF.map(row => row.getString(0)).collect()"
   ]
  },
  {
   "cell_type": "code",
   "execution_count": 8,
   "id": "a7ed28fb-f84d-41a3-98d3-0d718c7e499f",
   "metadata": {
    "tags": []
   },
   "outputs": [
    {
     "data": {
      "text/plain": [
       "stopwordsArray: Array[String] = Array(serious, latterly, absorbs, looks, particularly, used, e, printer, down, regarding, entirely, regardless, moreover, please, read, ourselves, able, behind, for, despite, s, maybe, viz, further, corresponding, x, any, wherein, across, name, allows, this, instead, in, taste, ought, myself, have, your, off, once, are, is, mon, his, oh, why, rd, knows, bulbs, too, among, course, greetings, somewhat, bibs, everyone, seen, likely, said, try, already, soon, nobody, got, given, song, using, less, am, consider, hence, than, n, accordingly, four, anyhow, want, three, forth, whereby, himself, specify, yes, throughout, inasmuch, but, whether, sure, below, aren, co, best, plus, becomes, what, unto, different, would, although, elsewhere, causes, another, certainly...\n"
      ]
     },
     "execution_count": 8,
     "metadata": {},
     "output_type": "execute_result"
    }
   ],
   "source": [
    "val stopwordsArray = stopwords.collect"
   ]
  },
  {
   "cell_type": "code",
   "execution_count": 9,
   "id": "18b53434-5491-4f3d-9ec9-dc2f98620b82",
   "metadata": {
    "tags": []
   },
   "outputs": [
    {
     "data": {
      "text/plain": [
       "tokenizeAndRemoveDuplicates: (reviewText: String)Seq[String]\n"
      ]
     },
     "execution_count": 9,
     "metadata": {},
     "output_type": "execute_result"
    }
   ],
   "source": [
    "def tokenizeAndRemoveDuplicates(reviewText: String): Seq[String] = {\n",
    "    // Split the review text into tokens using regular expression\n",
    "    val tokens = reviewText.toLowerCase.split(\"[^a-zA-Z<>^|]+\")\n",
    "\n",
    "    // Remove duplicates\n",
    "    tokens.distinct.filter(token => token.length > 1 && !stopwordsArray.contains(token))\n",
    "}"
   ]
  },
  {
   "cell_type": "code",
   "execution_count": 10,
   "id": "17d02df9-e22d-4c24-a8cf-4deec9b233c4",
   "metadata": {
    "tags": []
   },
   "outputs": [
    {
     "data": {
      "text/plain": [
       "tokenizedReviewsRDD: Array[Seq[String]] = Array(WrappedArray(gift, husband, making, things, time, love, food, directions, simple, easy, interpret, make, kinds, cuisine, raichlen, recipes, barbecue, trail, calls, open, page, provided, insight, culture, produced, broadening, horizons, yum), WrappedArray(nice, spreader, feels, solid, pneumatic, tires, give, great, maneuverability, handling, bumps, control, arm, metal, cable, precise, long, time, settings, experimentation, products, true, good, distribution, flings, material, farther, side, left, crappy, edgeguard), WrappedArray(metal, base, hose, attachments, poorly, designed, made, previous, reviewer, pointed, leaks, badly, pops, fix, tighten, junction, plastic, wears, bit, falls, sprinkler, useless, avoid, gilmour, sprinklers, spike, hea...\n"
      ]
     },
     "execution_count": 10,
     "metadata": {},
     "output_type": "execute_result"
    }
   ],
   "source": [
    "// Apply the function to each review text using map\n",
    "val tokenizedReviewsRDD = reviewTextsArray.map(tokenizeAndRemoveDuplicates)"
   ]
  },
  {
   "cell_type": "code",
   "execution_count": 11,
   "id": "152fe2c0-64a0-4f2a-ba5d-7c14018c26c9",
   "metadata": {
    "tags": []
   },
   "outputs": [
    {
     "data": {
      "text/plain": [
       "totalCount: Int = 2123321\n"
      ]
     },
     "execution_count": 11,
     "metadata": {},
     "output_type": "execute_result"
    }
   ],
   "source": [
    "val totalCount = tokenizedReviewsRDD.map(_.length).sum"
   ]
  },
  {
   "cell_type": "code",
   "execution_count": 12,
   "id": "f931e2e9-51a3-4dfd-b63c-400c35cab10c",
   "metadata": {
    "tags": []
   },
   "outputs": [
    {
     "name": "stderr",
     "output_type": "stream",
     "text": [
      "[Stage 4:===============================================>         (10 + 1) / 12]\n",
      "                                                                                \n",
      "\u001b[0m"
     ]
    },
    {
     "data": {
      "text/plain": [
       "categoriesDF: org.apache.spark.sql.DataFrame = [category: string]\n",
       "categoriesArray: Array[String] = Array(Patio_Lawn_and_Garde, Patio_Lawn_and_Garde, Patio_Lawn_and_Garde, Patio_Lawn_and_Garde, Patio_Lawn_and_Garde, Patio_Lawn_and_Garde, Patio_Lawn_and_Garde, Patio_Lawn_and_Garde, Patio_Lawn_and_Garde, Patio_Lawn_and_Garde, Patio_Lawn_and_Garde, Patio_Lawn_and_Garde, Patio_Lawn_and_Garde, Patio_Lawn_and_Garde, Patio_Lawn_and_Garde, Patio_Lawn_and_Garde, Patio_Lawn_and_Garde, Patio_Lawn_and_Garde, Patio_Lawn_and_Garde, Patio_Lawn_and_Garde, Patio_Lawn_and_Garde, Patio_Lawn_and_Garde, Patio_Lawn_and_Garde, Patio_Lawn_and_Garde, Patio_Lawn_and_Garde, Patio_Lawn_and_Garde, Patio_Lawn_and_Garde, Patio_Lawn_and_Garde, Patio_Lawn_and_Garde, Patio_Lawn_and_Garde, Patio_Lawn_and_Garde, Patio_Lawn...\n"
      ]
     },
     "execution_count": 12,
     "metadata": {},
     "output_type": "execute_result"
    }
   ],
   "source": [
    "// Extract the category attribute\n",
    "val categoriesDF = reviews.select(\"category\")\n",
    "\n",
    "// Convert DataFrame to Array[String]\n",
    "val categoriesArray = categoriesDF.map(row => row.getString(0)).collect()"
   ]
  },
  {
   "cell_type": "code",
   "execution_count": 13,
   "id": "ebcf6a3d-1790-4eae-9de3-2096f2560f96",
   "metadata": {
    "tags": []
   },
   "outputs": [
    {
     "data": {
      "text/plain": [
       "categorizedReviews: Array[(String, Seq[String])] = Array((Patio_Lawn_and_Garde,WrappedArray(gift, husband, making, things, time, love, food, directions, simple, easy, interpret, make, kinds, cuisine, raichlen, recipes, barbecue, trail, calls, open, page, provided, insight, culture, produced, broadening, horizons, yum)), (Patio_Lawn_and_Garde,WrappedArray(nice, spreader, feels, solid, pneumatic, tires, give, great, maneuverability, handling, bumps, control, arm, metal, cable, precise, long, time, settings, experimentation, products, true, good, distribution, flings, material, farther, side, left, crappy, edgeguard)), (Patio_Lawn_and_Garde,WrappedArray(metal, base, hose, attachments, poorly, designed, made, previous, reviewer, pointed, leaks, badly, pops, fix, tighten, junction, plastic, ...\n"
      ]
     },
     "execution_count": 13,
     "metadata": {},
     "output_type": "execute_result"
    }
   ],
   "source": [
    "// Step 1: Zip categories with tokenized reviews\n",
    "val categorizedReviews = categoriesArray.zip(tokenizedReviewsRDD)"
   ]
  },
  {
   "cell_type": "code",
   "execution_count": 14,
   "id": "a2bd2fdb-8886-43ff-acdb-1d458e14e8c8",
   "metadata": {
    "tags": []
   },
   "outputs": [
    {
     "data": {
      "text/plain": [
       "categorizedReviewsRDD: org.apache.spark.rdd.RDD[(String, Seq[String])] = ParallelCollectionRDD[17] at parallelize at <console>:25\n"
      ]
     },
     "execution_count": 14,
     "metadata": {},
     "output_type": "execute_result"
    }
   ],
   "source": [
    "val categorizedReviewsRDD = sc.parallelize(categorizedReviews)"
   ]
  },
  {
   "cell_type": "code",
   "execution_count": 15,
   "id": "e5f8779a-f04e-4d74-9802-0629231fb4e3",
   "metadata": {
    "tags": []
   },
   "outputs": [
    {
     "data": {
      "text/plain": [
       "termFrequencyRDD: org.apache.spark.rdd.RDD[((String, String), Int)] = ShuffledRDD[19] at reduceByKey at <console>:29\n"
      ]
     },
     "execution_count": 15,
     "metadata": {},
     "output_type": "execute_result"
    }
   ],
   "source": [
    "// Step 2: Calculate term frequency\n",
    "val termFrequencyRDD = categorizedReviewsRDD\n",
    "  // Flatten the tokens and add category\n",
    "  .flatMap{ case (category, tokens) => tokens.map(token => ((category, token), 1)) }\n",
    "  // Aggregate by category and term\n",
    "  .reduceByKey(_ + _)"
   ]
  },
  {
   "cell_type": "code",
   "execution_count": 16,
   "id": "4c21a9db-1d61-4319-9f27-d7f711e220cb",
   "metadata": {
    "tags": []
   },
   "outputs": [
    {
     "data": {
      "text/plain": [
       "termCategoriesRDD: org.apache.spark.rdd.RDD[((String, String), (Int, Int))] = MapPartitionsRDD[22] at flatMap at <console>:29\n"
      ]
     },
     "execution_count": 16,
     "metadata": {},
     "output_type": "execute_result"
    }
   ],
   "source": [
    "// Step 3: Calculate term categories\n",
    "val termCategoriesRDD = termFrequencyRDD\n",
    "  // Aggregate by term and category, also calculate term total\n",
    "  .map{ case ((category, term), count) => (term, (category, count)) }\n",
    "  .groupByKey()\n",
    "  .flatMap{ case (term, counts) =>\n",
    "    // Calculate term_total\n",
    "    val termTotal = counts.map(_._2).sum\n",
    "    // Calculate (A, B)\n",
    "    counts.map{ case (category, count) => ((category, term), (count, termTotal - count)) }\n",
    "  }"
   ]
  },
  {
   "cell_type": "code",
   "execution_count": 17,
   "id": "f50e0339-de94-4348-9539-abf8587d50e5",
   "metadata": {
    "tags": []
   },
   "outputs": [
    {
     "name": "stderr",
     "output_type": "stream",
     "text": [
      "\u001b[0;31m24/05/11 19:39:41 WARN TaskSetManager: Stage 5 contains a task of very large size (1815 KiB). The maximum recommended task size is 1000 KiB.\n",
      "\n",
      "[Stage 5:>                                                         (0 + 2) / 12]\n",
      "[Stage 5:====>                                                     (1 + 2) / 12]\n",
      "[Stage 5:==============>                                           (3 + 2) / 12]\n",
      "[Stage 5:========================>                                 (5 + 2) / 12]\n",
      "[Stage 5:======================================>                   (8 + 2) / 12]\n",
      "                                                                                \n",
      "\u001b[0m"
     ]
    },
    {
     "data": {
      "text/plain": [
       "totalCategory: scala.collection.Map[String,Int] = Map(Kindle_Store -> 3205, Electronic -> 7825, Automotive -> 1374, Pet_Supplie -> 1235, Clothing_Shoes_and_Jewelry -> 5749, Baby -> 916, Grocery_and_Gourmet_Food -> 1297, Musical_Instrument -> 500, Movies_and_TV -> 4607, Book -> 22507, Tools_and_Home_Improvement -> 1926, Sports_and_Outdoor -> 3269, CDs_and_Vinyl -> 3749, Home_and_Kitche -> 4254, Apps_for_Android -> 2638, Office_Product -> 1243, Health_and_Personal_Care -> 2982, Cell_Phones_and_Accessorie -> 3447, Digital_Music -> 836, Toys_and_Game -> 2253, Beauty -> 2023, Patio_Lawn_and_Garde -> 994)\n"
      ]
     },
     "execution_count": 17,
     "metadata": {},
     "output_type": "execute_result"
    }
   ],
   "source": [
    "val totalCategory = categorizedReviewsRDD\n",
    "  .map { case (category, _) => (category, 1) }\n",
    "  .reduceByKey(_ + _)\n",
    "  .collectAsMap()"
   ]
  },
  {
   "cell_type": "code",
   "execution_count": 18,
   "id": "27188d7b-228e-4de8-80a6-e129fcd4c2f7",
   "metadata": {
    "tags": []
   },
   "outputs": [
    {
     "data": {
      "text/plain": [
       "totalCategoryBroadcast: org.apache.spark.broadcast.Broadcast[scala.collection.Map[String,Int]] = Broadcast(11)\n"
      ]
     },
     "execution_count": 18,
     "metadata": {},
     "output_type": "execute_result"
    }
   ],
   "source": [
    "// Broadcast totalCategory for use in transformations\n",
    "val totalCategoryBroadcast = sc.broadcast(totalCategory)"
   ]
  },
  {
   "cell_type": "code",
   "execution_count": 19,
   "id": "e8211b4f-73cd-4072-bf2d-e45bd9416565",
   "metadata": {
    "tags": []
   },
   "outputs": [
    {
     "data": {
      "text/plain": [
       "res3: org.apache.spark.broadcast.Broadcast[scala.collection.Map[String,Int]] = Broadcast(11)\n"
      ]
     },
     "execution_count": 19,
     "metadata": {},
     "output_type": "execute_result"
    }
   ],
   "source": [
    "totalCategoryBroadcast"
   ]
  },
  {
   "cell_type": "code",
   "execution_count": 20,
   "id": "074645bc-c740-407f-a552-e1a48770fb58",
   "metadata": {
    "tags": []
   },
   "outputs": [
    {
     "data": {
      "text/plain": [
       "totalCategoryImmutable: scala.collection.immutable.Map[String,Int] = Map(Patio_Lawn_and_Garde -> 994, Movies_and_TV -> 4607, Electronic -> 7825, Office_Product -> 1243, Tools_and_Home_Improvement -> 1926, Kindle_Store -> 3205, Home_and_Kitche -> 4254, Digital_Music -> 836, Automotive -> 1374, Grocery_and_Gourmet_Food -> 1297, Baby -> 916, Book -> 22507, Clothing_Shoes_and_Jewelry -> 5749, Toys_and_Game -> 2253, Health_and_Personal_Care -> 2982, Sports_and_Outdoor -> 3269, Beauty -> 2023, CDs_and_Vinyl -> 3749, Musical_Instrument -> 500, Cell_Phones_and_Accessorie -> 3447, Apps_for_Android -> 2638, Pet_Supplie -> 1235)\n"
      ]
     },
     "execution_count": 20,
     "metadata": {},
     "output_type": "execute_result"
    }
   ],
   "source": [
    "val totalCategoryImmutable = totalCategory.mapValues(identity).toMap"
   ]
  },
  {
   "cell_type": "code",
   "execution_count": 21,
   "id": "eea4ed03-aa8d-4113-9189-c66df447f609",
   "metadata": {
    "tags": []
   },
   "outputs": [
    {
     "ename": "org.apache.spark.SparkException",
     "evalue": " Task not serializable",
     "output_type": "error",
     "traceback": [
      "org.apache.spark.SparkException: Task not serializable",
      "  at org.apache.spark.util.ClosureCleaner$.ensureSerializable(ClosureCleaner.scala:416)",
      "  at org.apache.spark.util.ClosureCleaner$.clean(ClosureCleaner.scala:406)",
      "  at org.apache.spark.util.ClosureCleaner$.clean(ClosureCleaner.scala:162)",
      "  at org.apache.spark.SparkContext.clean(SparkContext.scala:2477)",
      "  at org.apache.spark.rdd.RDD.$anonfun$map$1(RDD.scala:422)",
      "  at org.apache.spark.rdd.RDDOperationScope$.withScope(RDDOperationScope.scala:151)",
      "  at org.apache.spark.rdd.RDDOperationScope$.withScope(RDDOperationScope.scala:112)",
      "  at org.apache.spark.rdd.RDD.withScope(RDD.scala:414)",
      "  at org.apache.spark.rdd.RDD.map(RDD.scala:421)",
      "  ... 37 elided",
      "Caused by: java.io.NotSerializableException: scala.io.BufferedSource",
      "Serialization stack:",
      "\t- object not serializable (class: scala.io.BufferedSource, value: <iterator>)",
      "\t- field (class: $iw, name: stopwordsSource, type: class scala.io.BufferedSource)",
      "\t- object (class $iw, $iw@a2293a9)",
      "\t- field (class: $iw, name: $iw, type: class $iw)",
      "\t- object (class $iw, $iw@65547d1d)",
      "\t- field (class: $iw, name: $iw, type: class $iw)",
      "\t- object (class $iw, $iw@280d5861)",
      "\t- field (class: $iw, name: $iw, type: class $iw)",
      "\t- object (class $iw, $iw@523eaa61)",
      "\t- field (class: $iw, name: $iw, type: class $iw)",
      "\t- object (class $iw, $iw@246fbf26)",
      "\t- field (class: $iw, name: $iw, type: class $iw)",
      "\t- object (class $iw, $iw@22c3ecc)",
      "\t- field (class: $iw, name: $iw, type: class $iw)",
      "\t- object (class $iw, $iw@2542da2e)",
      "\t- field (class: $iw, name: $iw, type: class $iw)",
      "\t- object (class $iw, $iw@5d61002f)",
      "\t- field (class: $read, name: $iw, type: class $iw)",
      "\t- object (class $read, $read@58189d62)",
      "\t- field (class: $iw, name: read, type: class $read)",
      "\t- object (class $iw, $iw@1b42ea33)",
      "\t- field (class: $iw, name: $iw, type: class $iw)",
      "\t- object (class $iw, $iw@14995882)",
      "\t- field (class: $iw, name: $iw, type: class $iw)",
      "\t- object (class $iw, $iw@6799f2b4)",
      "\t- field (class: $iw, name: $iw, type: class $iw)",
      "\t- object (class $iw, $iw@34c3c2bb)",
      "\t- field (class: $iw, name: $iw, type: class $iw)",
      "\t- object (class $iw, $iw@69b62b3c)",
      "\t- field (class: $iw, name: $iw, type: class $iw)",
      "\t- object (class $iw, $iw@31ba4fec)",
      "\t- field (class: $iw, name: $iw, type: class $iw)",
      "\t- object (class $iw, $iw@7a3732c9)",
      "\t- field (class: $read, name: $iw, type: class $iw)",
      "\t- object (class $read, $read@a987911)",
      "\t- field (class: $iw, name: read, type: class $read)",
      "\t- object (class $iw, $iw@6eb9b810)",
      "\t- field (class: $iw, name: $iw, type: class $iw)",
      "\t- object (class $iw, $iw@44fb7357)",
      "\t- field (class: $iw, name: $iw, type: class $iw)",
      "\t- object (class $iw, $iw@22f39c1)",
      "\t- field (class: $iw, name: $iw, type: class $iw)",
      "\t- object (class $iw, $iw@25e397b4)",
      "\t- field (class: $iw, name: $iw, type: class $iw)",
      "\t- object (class $iw, $iw@e701acd)",
      "\t- field (class: $iw, name: $iw, type: class $iw)",
      "\t- object (class $iw, $iw@1d05bbc6)",
      "\t- field (class: $iw, name: $iw, type: class $iw)",
      "\t- object (class $iw, $iw@36258bac)",
      "\t- field (class: $read, name: $iw, type: class $iw)",
      "\t- object (class $read, $read@3ca866a9)",
      "\t- field (class: $iw, name: read, type: class $read)",
      "\t- object (class $iw, $iw@4e89b300)",
      "\t- field (class: $iw, name: $iw, type: class $iw)",
      "\t- object (class $iw, $iw@34383184)",
      "\t- field (class: $iw, name: $iw, type: class $iw)",
      "\t- object (class $iw, $iw@681d4d05)",
      "\t- field (class: $iw, name: $iw, type: class $iw)",
      "\t- object (class $iw, $iw@1212e086)",
      "\t- field (class: $iw, name: $iw, type: class $iw)",
      "\t- object (class $iw, $iw@33d53502)",
      "\t- field (class: $iw, name: $iw, type: class $iw)",
      "\t- object (class $iw, $iw@1b812ecf)",
      "\t- field (class: $iw, name: $iw, type: class $iw)",
      "\t- object (class $iw, $iw@3f38a062)",
      "\t- field (class: $read, name: $iw, type: class $iw)",
      "\t- object (class $read, $read@4a51c9d8)",
      "\t- field (class: $iw, name: read, type: class $read)",
      "\t- object (class $iw, $iw@70cc38ca)",
      "\t- field (class: $iw, name: $iw, type: class $iw)",
      "\t- object (class $iw, $iw@3791cc5c)",
      "\t- field (class: $iw, name: $iw, type: class $iw)",
      "\t- object (class $iw, $iw@74581512)",
      "\t- field (class: $iw, name: $iw, type: class $iw)",
      "\t- object (class $iw, $iw@ec309ed)",
      "\t- field (class: $iw, name: $iw, type: class $iw)",
      "\t- object (class $iw, $iw@43fb1349)",
      "\t- field (class: $iw, name: $iw, type: class $iw)",
      "\t- object (class $iw, $iw@b1fbd96)",
      "\t- field (class: $iw, name: $iw, type: class $iw)",
      "\t- object (class $iw, $iw@123e2624)",
      "\t- field (class: $read, name: $iw, type: class $iw)",
      "\t- object (class $read, $read@2fba6198)",
      "\t- field (class: $iw, name: read, type: class $read)",
      "\t- object (class $iw, $iw@4956f3b6)",
      "\t- field (class: $iw, name: $outer, type: class $iw)",
      "\t- object (class $iw, $iw@675cb4c2)",
      "\t- element of array (index: 0)",
      "\t- array (class [Ljava.lang.Object;, size 1)",
      "\t- field (class: java.lang.invoke.SerializedLambda, name: capturedArgs, type: class [Ljava.lang.Object;)",
      "\t- object (class java.lang.invoke.SerializedLambda, SerializedLambda[capturingClass=class $iw, functionalInterfaceMethod=scala/Function1.apply:(Ljava/lang/Object;)Ljava/lang/Object;, implementation=invokeStatic $anonfun$termCategoriesWithCD$1:(L$iw;Lscala/Tuple2;)Lscala/Tuple2;, instantiatedMethodType=(Lscala/Tuple2;)Lscala/Tuple2;, numCaptured=1])",
      "\t- writeReplace data (class: java.lang.invoke.SerializedLambda)",
      "\t- object (class $Lambda$4179/1842855769, $Lambda$4179/1842855769@4fcc3158)",
      "  at org.apache.spark.serializer.SerializationDebugger$.improveException(SerializationDebugger.scala:41)",
      "  at org.apache.spark.serializer.JavaSerializationStream.writeObject(JavaSerializer.scala:47)",
      "  at org.apache.spark.serializer.JavaSerializerInstance.serialize(JavaSerializer.scala:101)",
      "  at org.apache.spark.util.ClosureCleaner$.ensureSerializable(ClosureCleaner.scala:413)",
      "  ... 45 more",
      ""
     ]
    }
   ],
   "source": [
    "// Define a function to calculate c and d\n",
    "def calculateCD(category: String, a: Int, b: Int, totalCount: Long, totalCategory: Map[String, Int]): (Int, Int) = {\n",
    "  val cTotal = totalCategory(category)\n",
    "  val c = cTotal - a\n",
    "  val d = totalCount.toInt - a - b - c\n",
    "  (c, d)\n",
    "}\n",
    "\n",
    "// Step 4: Add c and d to termCategoriesRDD\n",
    "val termCategoriesWithCD = termCategoriesRDD.map { case ((category, term), (a, b)) =>\n",
    "  val (c, d) = calculateCD(category, a, b, totalCount, totalCategoryImmutable)\n",
    "  ((category, term), (a, b, c, d))\n",
    "}"
   ]
  },
  {
   "cell_type": "code",
   "execution_count": null,
   "id": "49c48638-e5cd-4827-bde4-510f298a3bb2",
   "metadata": {},
   "outputs": [],
   "source": []
  }
 ],
 "metadata": {
  "kernelspec": {
   "display_name": "spylon-kernel",
   "language": "scala",
   "name": "spylon-kernel"
  },
  "language_info": {
   "codemirror_mode": "text/x-scala",
   "file_extension": ".scala",
   "help_links": [
    {
     "text": "MetaKernel Magics",
     "url": "https://metakernel.readthedocs.io/en/latest/source/README.html"
    }
   ],
   "mimetype": "text/x-scala",
   "name": "scala",
   "pygments_lexer": "scala",
   "version": "0.4.1"
  }
 },
 "nbformat": 4,
 "nbformat_minor": 5
}
